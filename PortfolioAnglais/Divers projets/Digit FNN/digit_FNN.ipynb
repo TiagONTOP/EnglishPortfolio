{
 "cells": [
  {
   "cell_type": "markdown",
   "id": "fb0f0a1d-bdba-456e-9452-e7d8524d505e",
   "metadata": {},
   "source": [
    "# Handwritten Digit Prediction with a Feedforward Neural Network\n",
    "\n",
    "In this notebook, we will explore the powerful world of deep learning using a feedforward neural network (FNN) to predict handwritten digits. We will use the famous MNIST dataset, which is a collection of 70,000 images of handwritten digits from 0 to 9. Each image is grayscale and measures 28x28 pixels, making it an excellent starting point for deep learning due to its simplicity.\n",
    "\n",
    "## Notebook Structure\n",
    "\n",
    "The notebook is organized as follows:\n",
    "\n",
    "1. **Importing Necessary Libraries**: We start by importing all the necessary libraries for our analysis. This includes pandas and numpy for data manipulation, matplotlib for data visualization, and of course, TensorFlow for building and training our neural network model.\n",
    "\n",
    "2. **Loading and Preprocessing the Data**: We load the MNIST dataset using the `load_data` function from TensorFlow. Then, we normalize the images by dividing each pixel by the maximum value (255), which gives us pixel values between 0 and 1.\n",
    "\n",
    "3. **Building the Model**: We build our FNN model using the Keras API in TensorFlow. Our model consists of three dense layers, with the ReLU activation function for the first two layers and the softmax activation function for the output layer.\n",
    "\n",
    "4. **Training the Model**: We compile our model with the Adam optimizer and \"sparse_categorical_crossentropy\" loss, which is suitable for multiclass classification. Then, we train the model on our training dataset for three epochs.\n",
    "\n",
    "5. **Model Evaluation**: We evaluate the performance of our model on the test dataset and display the loss and accuracy.\n",
    "\n",
    "6. **Prediction on a New Image**: Finally, we use our trained model to predict a digit from a new image.\n",
    "\n",
    "This notebook demonstrates how a neural network can be used for the complex task of handwritten digit recognition. So let's begin our exploration of the fascinating world of deep learning."
   ]
  },
  {
   "cell_type": "markdown",
   "id": "27b34090-7a99-4805-8420-fd115e01d6b4",
   "metadata": {},
   "source": [
    "\n"
   ]
  },
  {
   "cell_type": "markdown",
   "id": "10bab5d8-b431-46bb-a249-b5b3c5e48157",
   "metadata": {},
   "source": [
    "The code below is organized into several key steps of data preprocessing, creating and training a neural network model, and finally evaluating the model.\n",
    "\n",
    "1. **Importing libraries**: The necessary libraries for running this script are imported. This includes 'pandas' and 'numpy' for data manipulation, 'matplotlib.pyplot' for data visualization, 'tensorflow.keras' for building and training neural network models, and 'cv2' (OpenCV) for image manipulation.\n",
    "\n",
    "2. **Loading the data**: The MNIST dataset is loaded using the `mnist.load_data()` function from Keras, which returns two tuples containing the training and test data respectively.\n",
    "\n",
    "3. **Data preprocessing**: The training and test data are normalized so that all pixel values are between 0 and 1. This is done using the `normalize` function from Keras.\n",
    "\n",
    "4. **Creating the neural network model**: A sequential model is created with three layers. The first two layers are dense (fully connected) layers with 128 neurons each and use the ReLU activation function. The last layer is also a dense layer with 10 neurons (corresponding to the 10 digit classes from 0 to 9) and uses the softmax activation function to predict the probability of each class.\n",
    "\n",
    "5. **Compiling the model**: The model is compiled with the 'adam' optimizer, which is an adaptive stochastic gradient descent method. The loss function used is 'sparse_categorical_crossentropy', which is suitable for multiclass classification problems where the classes are integers (as opposed to one-hot vectors). The evaluation metric used is accuracy.\n",
    "\n",
    "6. **Training the model**: The model is trained on the training data for 3 epochs.\n",
    "\n",
    "7. **Evaluating the model**: The model is evaluated on the test data using the `evaluate` method. This returns the model's loss and accuracy on the test data. In this case, the loss is approximately 0.091 and the accuracy is approximately 97.12%, indicating that the model has high performance in predicting handwritten digits on the test data."
   ]
  },
  {
   "cell_type": "code",
   "execution_count": 27,
   "id": "a390affa",
   "metadata": {},
   "outputs": [],
   "source": [
    "import pandas as pd\n",
    "import numpy as np \n",
    "import matplotlib.pyplot as plt\n",
    "from tensorflow.keras.datasets import mnist\n",
    "from tensorflow.keras.utils import normalize\n",
    "from tensorflow.keras import models\n",
    "from tensorflow.keras import layers\n",
    "import tensorflow as tf\n",
    "import cv2 as cv"
   ]
  },
  {
   "cell_type": "code",
   "execution_count": 21,
   "id": "8900c960",
   "metadata": {},
   "outputs": [],
   "source": [
    "(X_train, y_train), (X_test, y_test) = mnist.load_data()"
   ]
  },
  {
   "cell_type": "code",
   "execution_count": 22,
   "id": "a9b4ff8a",
   "metadata": {},
   "outputs": [],
   "source": [
    "X_train = normalize(X_train, axis=1)\n",
    "X_test = normalize(X_test, axis=1)"
   ]
  },
  {
   "cell_type": "code",
   "execution_count": 23,
   "id": "48bdeed7",
   "metadata": {},
   "outputs": [],
   "source": [
    "model = models.Sequential()\n",
    "model.add(layers.Flatten(input_shape=(28, 28)))\n",
    "model.add(layers.Dense(units=128, activation=tf.nn.relu))\n",
    "model.add(layers.Dense(units=128, activation=tf.nn.relu))\n",
    "model.add(layers.Dense(units=10, activation=tf.nn.softmax))\n",
    "model.compile(optimizer='adam', loss='sparse_categorical_crossentropy', metrics=['accuracy'])"
   ]
  },
  {
   "cell_type": "code",
   "execution_count": 24,
   "id": "f928c97a",
   "metadata": {},
   "outputs": [
    {
     "name": "stdout",
     "output_type": "stream",
     "text": [
      "Epoch 1/3\n",
      "1875/1875 [==============================] - 6s 2ms/step - loss: 0.2609 - accuracy: 0.9240\n",
      "Epoch 2/3\n",
      "1875/1875 [==============================] - 4s 2ms/step - loss: 0.1070 - accuracy: 0.9663\n",
      "Epoch 3/3\n",
      "1875/1875 [==============================] - 5s 3ms/step - loss: 0.0736 - accuracy: 0.9768\n",
      "313/313 [==============================] - 1s 2ms/step - loss: 0.0908 - accuracy: 0.9712\n"
     ]
    }
   ],
   "source": [
    "model.fit(X_train, y_train, epochs=3)\n",
    "loss, accuracy = model.evaluate(X_test, y_test)"
   ]
  },
  {
   "cell_type": "code",
   "execution_count": 25,
   "id": "32303b50",
   "metadata": {},
   "outputs": [
    {
     "name": "stdout",
     "output_type": "stream",
     "text": [
      "0.09084444493055344 0.9711999893188477\n"
     ]
    }
   ],
   "source": [
    "print(loss, accuracy)"
   ]
  },
  {
   "cell_type": "markdown",
   "id": "44e59490-dd1e-4e50-9076-54c8f3f437e7",
   "metadata": {},
   "source": [
    "This part of the code tests the ability of the trained neural network model to predict a handwritten digit from an image that you created yourself.\n",
    "\n",
    "Here is a detailed explanation of the code:\n",
    "\n",
    "1. **Loading the image**: The image 'digit.png', which contains a digit that you manually wrote (the image should be in 28x28 format), is loaded using the `imread` function from OpenCV. The image is in color, and the `[:,:,0]` code extracts the first color channel (red in the case of an RGB color image) because the neural network model is trained on grayscale images.\n",
    "\n",
    "2. **Image inversion**: Since the MNIST dataset images are grayscale images where the digit is in white on a black background, we need to invert our image (which is likely a black digit on a white background) to match this format. This is what the `np.invert` function does.\n",
    "\n",
    "3. **Prediction**: The neural network model is used to predict the digit of the image. Since the model was built to predict the probabilities of each class (digit), the `np.argmax` function is used to select the class with the highest probability. The digit predicted by the model is displayed.\n",
    "\n",
    "4. **Image display**: Finally, the image is displayed using `plt.imshow` to allow you to visualize the digit you wrote, which is used for prediction.\n",
    "\n",
    "In your case, the written digit was '6', and the model correctly predicted this digit, demonstrating the model's ability to correctly read handwritten digits, including those that were not part of the original training dataset."
   ]
  },
  {
   "cell_type": "code",
   "execution_count": 30,
   "id": "61964baf",
   "metadata": {},
   "outputs": [],
   "source": [
    "img = cv.imread('digit.png')[:, :, 0]\n",
    "img = np.invert(np.array([img]))"
   ]
  },
  {
   "cell_type": "code",
   "execution_count": 32,
   "id": "3ad33af9",
   "metadata": {},
   "outputs": [
    {
     "name": "stdout",
     "output_type": "stream",
     "text": [
      "Prediction : 6\n"
     ]
    },
    {
     "data": {
      "text/plain": [
       "<matplotlib.image.AxesImage at 0x193ea7731f0>"
      ]
     },
     "execution_count": 32,
     "metadata": {},
     "output_type": "execute_result"
    },
    {
     "data": {
      "image/png": "[encoded data removed]",
      "text/plain": [
       "<Figure size 640x480 with 1 Axes>"
      ]
     },
     "metadata": {},
     "output_type": "display_data"
    }
   ],
   "source": [
    "prediction = model.predict(img)\n",
    "print(\"Prediction : {}\".format(np.argmax(prediction)))\n",
    "plt.imshow(img[0])"
   ]
  }
 ],
 "metadata": {
  "kernelspec": {
   "display_name": "Python 3 (ipykernel)",
   "language": "python",
   "name": "python3"
  },
  "language_info": {
   "codemirror_mode": {
    "name": "ipython",
    "version": 3
   },
   "file_extension": ".py",
   "mimetype": "text/x-python",
   "name": "python",
   "nbconvert_exporter": "python",
   "pygments_lexer": "ipython3",
   "version": "3.9.13"
  }
 },
 "nbformat": 4,
 "nbformat_minor": 5
}
