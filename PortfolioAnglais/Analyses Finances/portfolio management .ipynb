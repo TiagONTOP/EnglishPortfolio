{
 "cells": [
  {
   "cell_type": "markdown",
   "id": "0ba48994-206b-440c-8d6f-94bc722f3fd5",
   "metadata": {},
   "source": [
    "# Introduction\n",
    "\n",
    "Portfolio management is a crucial field in finance. It involves not only selecting the right investments but also understanding how to combine them optimally to achieve an ideal balance between risk and return. One of the most famous and influential models in this field is the Modern Portfolio Theory (MPT), introduced by Harry Markowitz in 1952.\n",
    "\n",
    "The fundamental principle of MPT is that investors seek to maximize their return for a given level of risk. This is where the concept of diversification comes into play - by combining different assets with imperfectly correlated returns, one can achieve a more stable overall performance and thus reduce risk.\n",
    "\n",
    "The portfolio variance, which measures the variability of its returns, is often used as a risk measure in MPT. By minimizing the variance, we aim to make the portfolio returns as stable and predictable as possible.\n",
    "\n",
    "In this notebook, we will use MPT to optimize an investment portfolio. We will employ optimization techniques to determine the optimal allocation of assets that minimizes the portfolio variance. The weights we obtain will be used to enhance our trading strategy.\n",
    "\n",
    "We will go through several steps to accomplish this:\n",
    "\n",
    "- **Data collection**: We will use historical data on asset returns in our portfolio.\n",
    "\n",
    "- **Calculating returns and covariance**: We will use this data to estimate expected returns and the covariance of asset returns.\n",
    "\n",
    "- **Portfolio optimization**: We will use an optimization algorithm to determine the weights of each asset in the portfolio that minimizes the variance.\n",
    "\n",
    "By following these steps, we will obtain an optimized investment strategy that can help us make more informed decisions and, hopefully, achieve better returns.\n",
    "\n",
    "So let's get started without further ado!"
   ]
  },
  {
   "cell_type": "code",
   "execution_count": 124,
   "id": "7b43049e",
   "metadata": {},
   "outputs": [
    {
     "data": {
      "text/plain": [
       "True"
      ]
     },
     "execution_count": 124,
     "metadata": {},
     "output_type": "execute_result"
    }
   ],
   "source": [
    "import pandas as pd\n",
    "import numpy as np\n",
    "import sqlite3\n",
    "import matplotlib.pyplot as plt\n",
    "import seaborn as sns\n",
    "from scipy.stats import skew, kurtosis, norm, spearmanr, pearsonr\n",
    "from scipy.optimize import minimize\n",
    "import MetaTrader5 as mt5\n",
    "import sys\n",
    "sys.path.append(r'C:\\Users\\ftiag\\Desktop\\Business, trading et investissement\\Business\\modules')\n",
    "from research_tools import get_clean_mt5_data\n",
    "\n",
    "mt5.initialize()\n",
    "\n",
    "login_mt5 = 1051534030\n",
    "mdp_mt5 = 'FG2SF2M74R'\n",
    "server = 'FTMO-Demo'\n",
    "\n",
    "mt5.login(login_mt5, mdp_mt5, server)"
   ]
  },
  {
   "cell_type": "markdown",
   "id": "36b76b13-dfdd-4fc4-a1a7-03751ed3aca1",
   "metadata": {},
   "source": [
    "In this part of the code, we start by defining the assets of our portfolio. These are the symbols of the currency pairs that we are going to analyze. Using the identifiers of these pairs ('GBPJPY', 'GBPUSD', 'EURGBP', 'EURUSD', 'USDCAD', 'USDJPY'), we can obtain relevant market information for our analysis.\n",
    "\n",
    "We then use a function called `get_clean_mt5_data` to retrieve data for these assets. This function is part of a personal module that I created to facilitate market data analysis. It uses the MetaTrader 5 (MT5) API to retrieve market data and returns a \"cleaned\" version of this data.\n",
    "\n",
    "The `interval` parameter specifies the time interval for the data we retrieve. Here, we are using `mt5.TIMEFRAME_H4`, which means that we are retrieving data on a 4-hour interval.\n",
    "\n",
    "The `n_bars` parameter specifies the number of bars (or periods) that we want to retrieve. Here, we are using `5000`, which means that we are retrieving data for the last 5000 periods.\n",
    "\n",
    "Finally, the `.close` at the end of the function call means that we are only interested in the closing prices for each period.\n",
    "\n",
    "So, here's how we can interpret this line of code:\n",
    "\n",
    "\"For each currency pair in our ticker list, retrieve the last 5000 closing prices on 4-hour intervals using the `get_clean_mt5_data` function from our personal module.\""
   ]
  },
  {
   "cell_type": "code",
   "execution_count": 125,
   "id": "8128d995",
   "metadata": {},
   "outputs": [],
   "source": [
    "tickers = ['GBPJPY', 'GBPUSD', 'EURGBP', 'EURUSD', 'USDCAD', 'USDJPY']\n",
    "prices = get_clean_mt5_data(tickers, interval=mt5.TIMEFRAME_H4, n_bars=5000).close"
   ]
  },
  {
   "cell_type": "markdown",
   "id": "ddb89fd3-9320-45e0-883a-db7b1cc264e9",
   "metadata": {},
   "source": [
    "Now that we have retrieved our price data, we need to prepare it for our analysis.\n",
    "\n",
    "The first line `prices = prices.unstack(0).fillna(method='ffill')` reformats the price data into a more suitable structure for our analysis. The `unstack(0)` operation rearranges the DataFrame so that each column corresponds to a currency pair. `fillna(method='ffill')` fills in missing values with the last known valid value, ensuring there are no gaps in our data.\n",
    "\n",
    "Next, we initialize our weights with a uniform distribution, meaning we initially assume each asset in our portfolio has the same weight. We use the expression `np.array([1/len(returns.columns)]*len(returns.columns))` for this.\n",
    "\n",
    "We then define the `minimize_variance` function. This function takes a set of weights and calculates the resulting portfolio variance. Returns are computed using `prices.pct_change().dropna()`, which calculates the percentage change in prices from one period to another. Next, we calculate the covariance matrix of returns with `returns.cov()`, which gives us a measure of how the returns of different assets move together. Portfolio variance is calculated using `np.dot(np.dot(weights.T, cov), weights)`, which is a standard formulation for calculating the variance of a portfolio based on asset weights and their covariance matrix.\n",
    "\n",
    "We also define a constraint on the weights in the `constraint1` function. This constraint ensures that the sum of weights is equal to 1, meaning we are using the entire capital to invest.\n",
    "\n",
    "Then, we use the `minimize` function from the `scipy.optimize` optimization module to find the weights that minimize the portfolio variance. The `SLSQP` (Sequential Least Squares Programming) method is used as the optimization method. The constraints and weight bounds are also passed to the `minimize` function.\n",
    "\n",
    "The `result` variable will contain the optimization results, including the optimal weights of the portfolio."
   ]
  },
  {
   "cell_type": "code",
   "execution_count": 126,
   "id": "4fe7ccff",
   "metadata": {},
   "outputs": [],
   "source": [
    "prices = prices.unstack(0).fillna(method='ffill')\n",
    "index = prices.columns\n",
    "weights = np.array([1/len(returns.columns)]*len(returns.columns))\n",
    "def minimize_variance(weights):\n",
    "    weights.reshape(-1, 1)\n",
    "    returns = prices.pct_change().dropna()\n",
    "    cov = returns.cov()\n",
    "    portfolio_variance = float(np.dot(np.dot(weights.T, cov), weights))\n",
    "    return portfolio_variance * 10000\n",
    "\n",
    "def constraint1(x):\n",
    "    return np.sum(x) - 1\n",
    "\n",
    "con1 = {'type': 'eq', 'fun': constraint1}\n",
    "constraints = [con1]\n",
    "bnds = [(0, None) for _ in range(len(weights))]\n",
    "result = minimize(minimize_variance, weights, method='SLSQP', bounds=bnds, constraints=constraints)"
   ]
  },
  {
   "cell_type": "markdown",
   "id": "5602b5a1-ea7e-4824-aca6-71807d80d9e0",
   "metadata": {},
   "source": [
    "In the first code block, we print the result of our optimization. The output indicates that the optimization was successful. The 'fun' key in the output dictionary represents the minimum value of the objective function, which is the minimum variance of the portfolio that we have found. The values under the 'x' key are the optimal weights for each asset in our portfolio that minimize the variance.\n",
    "\n",
    "Next, we create a dictionary that links each currency pair to its optimal weight in the portfolio. We use the `zip` function to combine the indices (the names of the currency pairs) and the optimal weights. The result is a dictionary where each currency pair is linked to its optimal weight.\n",
    "\n",
    "Finally, we save this dictionary of optimal weights to a pickle file for future use. The `pickle` module is used to serialize and deserialize Python objects. By serializing our dictionary of optimal weights, we can easily load it from the pickle file at a later date. This can be particularly useful if the optimization process is computationally expensive in terms of time and resources because we won't have to re-run the optimization every time we need the optimal weights.\n",
    "\n",
    "Overall, this code block represents the final step of our portfolio optimization process. By minimizing the portfolio variance, we have created a portfolio strategy that, according to Modern Portfolio Theory, should provide us with the most stable returns for a given level of risk."
   ]
  },
  {
   "cell_type": "code",
   "execution_count": 127,
   "id": "11b4de47",
   "metadata": {},
   "outputs": [
    {
     "data": {
      "text/plain": [
       " message: Optimization terminated successfully\n",
       " success: True\n",
       "  status: 0\n",
       "     fun: 0.002848667171112722\n",
       "       x: [ 3.019e-01  0.000e+00  0.000e+00  3.227e-01  2.466e-01\n",
       "            1.288e-01]\n",
       "     nit: 15\n",
       "     jac: [ 6.008e-03  1.128e-02  1.080e-02  5.310e-03  5.937e-03\n",
       "            5.483e-03]\n",
       "    nfev: 106\n",
       "    njev: 15"
      ]
     },
     "execution_count": 127,
     "metadata": {},
     "output_type": "execute_result"
    }
   ],
   "source": [
    "result"
   ]
  },
  {
   "cell_type": "code",
   "execution_count": 128,
   "id": "22627bef",
   "metadata": {},
   "outputs": [
    {
     "data": {
      "text/plain": [
       "{'EURGBP': 0.30189857553076915,\n",
       " 'EURUSD': 0.0,\n",
       " 'GBPJPY': 0.0,\n",
       " 'GBPUSD': 0.32268924221792383,\n",
       " 'USDCAD': 0.24659302521026463,\n",
       " 'USDJPY': 0.12881915704104258}"
      ]
     },
     "execution_count": 128,
     "metadata": {},
     "output_type": "execute_result"
    }
   ],
   "source": [
    "dict(zip(index, list(result.x)))"
   ]
  },
  {
   "cell_type": "code",
   "execution_count": 131,
   "id": "65b27c7d",
   "metadata": {},
   "outputs": [],
   "source": [
    "import pickle\n",
    "with open('weights.pkl', 'wb') as f:\n",
    "    pickle.dump(dict(zip(index, list(result.x))), f)"
   ]
  }
 ],
 "metadata": {
  "kernelspec": {
   "display_name": "Python 3 (ipykernel)",
   "language": "python",
   "name": "python3"
  },
  "language_info": {
   "codemirror_mode": {
    "name": "ipython",
    "version": 3
   },
   "file_extension": ".py",
   "mimetype": "text/x-python",
   "name": "python",
   "nbconvert_exporter": "python",
   "pygments_lexer": "ipython3",
   "version": "3.9.13"
  }
 },
 "nbformat": 4,
 "nbformat_minor": 5
}
